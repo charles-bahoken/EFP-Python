{
 "cells": [
  {
   "cell_type": "markdown",
   "id": "7ca3c977",
   "metadata": {},
   "source": [
    "# DAY1"
   ]
  },
  {
   "cell_type": "code",
   "execution_count": 5,
   "id": "ab994586",
   "metadata": {},
   "outputs": [],
   "source": [
    "def indices_cible(T,a):\n",
    "    for i in range(len(T)):\n",
    "        B=T[i]\n",
    "        for j in range(i+1,len(T)):\n",
    "            if a==B+T[j]:\n",
    "                return(f'the indices are {i} and {j}')\n",
    "               # break "
   ]
  },
  {
   "cell_type": "code",
   "execution_count": 7,
   "id": "96841fac",
   "metadata": {},
   "outputs": [
    {
     "data": {
      "text/plain": [
       "'the indices are 2 and 4'"
      ]
     },
     "execution_count": 7,
     "metadata": {},
     "output_type": "execute_result"
    }
   ],
   "source": [
    "indices_cible([1,2,5,7,9,0,4],14)"
   ]
  },
  {
   "cell_type": "code",
   "execution_count": null,
   "id": "4397e044",
   "metadata": {},
   "outputs": [],
   "source": []
  }
 ],
 "metadata": {
  "kernelspec": {
   "display_name": "Python 3 (ipykernel)",
   "language": "python",
   "name": "python3"
  },
  "language_info": {
   "codemirror_mode": {
    "name": "ipython",
    "version": 3
   },
   "file_extension": ".py",
   "mimetype": "text/x-python",
   "name": "python",
   "nbconvert_exporter": "python",
   "pygments_lexer": "ipython3",
   "version": "3.11.2"
  }
 },
 "nbformat": 4,
 "nbformat_minor": 5
}
